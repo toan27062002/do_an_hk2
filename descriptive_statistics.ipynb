{
  "nbformat": 4,
  "nbformat_minor": 0,
  "metadata": {
    "colab": {
      "name": "descriptive statistics.ipynb",
      "provenance": [],
      "collapsed_sections": [],
      "authorship_tag": "ABX9TyORGgEGy03JH+qOxVEIoXJw",
      "include_colab_link": true
    },
    "kernelspec": {
      "name": "python3",
      "display_name": "Python 3"
    },
    "language_info": {
      "name": "python"
    }
  },
  "cells": [
    {
      "cell_type": "markdown",
      "metadata": {
        "id": "view-in-github",
        "colab_type": "text"
      },
      "source": [
        "<a href=\"https://colab.research.google.com/github/toan27062002/do_an_hk2/blob/main/descriptive_statistics.ipynb\" target=\"_parent\"><img src=\"https://colab.research.google.com/assets/colab-badge.svg\" alt=\"Open In Colab\"/></a>"
      ]
    },
    {
      "cell_type": "code",
      "metadata": {
        "id": "V0DrZ-94MJsf"
      },
      "source": [
        "import numpy as np\n",
        "import pandas as pd\n",
        "import matplotlib.pyplot as plt \n",
        "import scipy\n",
        "import statistics\n",
        "import seaborn as sns \n",
        "from scipy import stats"
      ],
      "execution_count": null,
      "outputs": []
    },
    {
      "cell_type": "code",
      "metadata": {
        "colab": {
          "base_uri": "https://localhost:8080/",
          "height": 377
        },
        "id": "j2s99XfpMNKj",
        "outputId": "c87fda6f-d8b5-477f-e142-c817fa9d92c9"
      },
      "source": [
        "# Nhập dữ liệu\n",
        "data = pd.read_csv(\"Inc_Exp_Data.csv\")\n",
        "data.head(10)"
      ],
      "execution_count": null,
      "outputs": [
        {
          "output_type": "execute_result",
          "data": {
            "text/html": [
              "<div>\n",
              "<style scoped>\n",
              "    .dataframe tbody tr th:only-of-type {\n",
              "        vertical-align: middle;\n",
              "    }\n",
              "\n",
              "    .dataframe tbody tr th {\n",
              "        vertical-align: top;\n",
              "    }\n",
              "\n",
              "    .dataframe thead th {\n",
              "        text-align: right;\n",
              "    }\n",
              "</style>\n",
              "<table border=\"1\" class=\"dataframe\">\n",
              "  <thead>\n",
              "    <tr style=\"text-align: right;\">\n",
              "      <th></th>\n",
              "      <th>Mthly_HH_Income</th>\n",
              "      <th>Mthly_HH_Expense</th>\n",
              "      <th>No_of_Fly_Members</th>\n",
              "      <th>Emi_or_Rent_Amt</th>\n",
              "      <th>Annual_HH_Income</th>\n",
              "      <th>Highest_Qualified_Member</th>\n",
              "      <th>No_of_Earning_Members</th>\n",
              "    </tr>\n",
              "  </thead>\n",
              "  <tbody>\n",
              "    <tr>\n",
              "      <th>0</th>\n",
              "      <td>5000</td>\n",
              "      <td>8000</td>\n",
              "      <td>3</td>\n",
              "      <td>2000</td>\n",
              "      <td>64200</td>\n",
              "      <td>Under-Graduate</td>\n",
              "      <td>1</td>\n",
              "    </tr>\n",
              "    <tr>\n",
              "      <th>1</th>\n",
              "      <td>6000</td>\n",
              "      <td>7000</td>\n",
              "      <td>2</td>\n",
              "      <td>3000</td>\n",
              "      <td>79920</td>\n",
              "      <td>Illiterate</td>\n",
              "      <td>1</td>\n",
              "    </tr>\n",
              "    <tr>\n",
              "      <th>2</th>\n",
              "      <td>10000</td>\n",
              "      <td>4500</td>\n",
              "      <td>2</td>\n",
              "      <td>0</td>\n",
              "      <td>112800</td>\n",
              "      <td>Under-Graduate</td>\n",
              "      <td>1</td>\n",
              "    </tr>\n",
              "    <tr>\n",
              "      <th>3</th>\n",
              "      <td>10000</td>\n",
              "      <td>2000</td>\n",
              "      <td>1</td>\n",
              "      <td>0</td>\n",
              "      <td>97200</td>\n",
              "      <td>Illiterate</td>\n",
              "      <td>1</td>\n",
              "    </tr>\n",
              "    <tr>\n",
              "      <th>4</th>\n",
              "      <td>12500</td>\n",
              "      <td>12000</td>\n",
              "      <td>2</td>\n",
              "      <td>3000</td>\n",
              "      <td>147000</td>\n",
              "      <td>Graduate</td>\n",
              "      <td>1</td>\n",
              "    </tr>\n",
              "    <tr>\n",
              "      <th>5</th>\n",
              "      <td>14000</td>\n",
              "      <td>8000</td>\n",
              "      <td>2</td>\n",
              "      <td>0</td>\n",
              "      <td>196560</td>\n",
              "      <td>Graduate</td>\n",
              "      <td>1</td>\n",
              "    </tr>\n",
              "    <tr>\n",
              "      <th>6</th>\n",
              "      <td>15000</td>\n",
              "      <td>16000</td>\n",
              "      <td>3</td>\n",
              "      <td>35000</td>\n",
              "      <td>167400</td>\n",
              "      <td>Post-Graduate</td>\n",
              "      <td>1</td>\n",
              "    </tr>\n",
              "    <tr>\n",
              "      <th>7</th>\n",
              "      <td>18000</td>\n",
              "      <td>20000</td>\n",
              "      <td>5</td>\n",
              "      <td>8000</td>\n",
              "      <td>216000</td>\n",
              "      <td>Graduate</td>\n",
              "      <td>1</td>\n",
              "    </tr>\n",
              "    <tr>\n",
              "      <th>8</th>\n",
              "      <td>19000</td>\n",
              "      <td>9000</td>\n",
              "      <td>2</td>\n",
              "      <td>0</td>\n",
              "      <td>218880</td>\n",
              "      <td>Under-Graduate</td>\n",
              "      <td>1</td>\n",
              "    </tr>\n",
              "    <tr>\n",
              "      <th>9</th>\n",
              "      <td>20000</td>\n",
              "      <td>9000</td>\n",
              "      <td>4</td>\n",
              "      <td>0</td>\n",
              "      <td>220800</td>\n",
              "      <td>Under-Graduate</td>\n",
              "      <td>2</td>\n",
              "    </tr>\n",
              "  </tbody>\n",
              "</table>\n",
              "</div>"
            ],
            "text/plain": [
              "   Mthly_HH_Income  ...  No_of_Earning_Members\n",
              "0             5000  ...                      1\n",
              "1             6000  ...                      1\n",
              "2            10000  ...                      1\n",
              "3            10000  ...                      1\n",
              "4            12500  ...                      1\n",
              "5            14000  ...                      1\n",
              "6            15000  ...                      1\n",
              "7            18000  ...                      1\n",
              "8            19000  ...                      1\n",
              "9            20000  ...                      2\n",
              "\n",
              "[10 rows x 7 columns]"
            ]
          },
          "metadata": {
            "tags": []
          },
          "execution_count": 224
        }
      ]
    },
    {
      "cell_type": "code",
      "metadata": {
        "colab": {
          "base_uri": "https://localhost:8080/"
        },
        "id": "1w7BhEfiMVja",
        "outputId": "fbde3bb5-5135-48cd-e20f-aa4b88006d79"
      },
      "source": [
        "# Xem thông tin dữ liệu trong dataframe \n",
        "data.info()"
      ],
      "execution_count": null,
      "outputs": [
        {
          "output_type": "stream",
          "text": [
            "<class 'pandas.core.frame.DataFrame'>\n",
            "RangeIndex: 50 entries, 0 to 49\n",
            "Data columns (total 7 columns):\n",
            " #   Column                    Non-Null Count  Dtype \n",
            "---  ------                    --------------  ----- \n",
            " 0   Mthly_HH_Income           50 non-null     int64 \n",
            " 1   Mthly_HH_Expense          50 non-null     int64 \n",
            " 2   No_of_Fly_Members         50 non-null     int64 \n",
            " 3   Emi_or_Rent_Amt           50 non-null     int64 \n",
            " 4   Annual_HH_Income          50 non-null     int64 \n",
            " 5   Highest_Qualified_Member  50 non-null     object\n",
            " 6   No_of_Earning_Members     50 non-null     int64 \n",
            "dtypes: int64(6), object(1)\n",
            "memory usage: 2.9+ KB\n"
          ],
          "name": "stdout"
        }
      ]
    },
    {
      "cell_type": "markdown",
      "metadata": {
        "id": "VBXQZ28EMaxq"
      },
      "source": [
        "Task 1: The Distribution"
      ]
    },
    {
      "cell_type": "code",
      "metadata": {
        "colab": {
          "base_uri": "https://localhost:8080/",
          "height": 377
        },
        "id": "K9afdt8YMYTy",
        "outputId": "94d43baa-4682-44ea-abde-dc8a6b357073"
      },
      "source": [
        "# Tạo cột phân loại \n",
        "Type = []\n",
        "for x in data['Mthly_HH_Income']:\n",
        "    if x <= 20000:\n",
        "        Type.append('Low')\n",
        "    elif 20000 < x <= 50000:\n",
        "        Type.append('Medium')\n",
        "    elif 50000 < x <= 80000:\n",
        "        Type.append('High')\n",
        "    else:\n",
        "        Type.append('Huge')\n",
        "\n",
        "data.insert(7, \"Type_Income\", Type)\n",
        "data.sample(10)"
      ],
      "execution_count": null,
      "outputs": [
        {
          "output_type": "execute_result",
          "data": {
            "text/html": [
              "<div>\n",
              "<style scoped>\n",
              "    .dataframe tbody tr th:only-of-type {\n",
              "        vertical-align: middle;\n",
              "    }\n",
              "\n",
              "    .dataframe tbody tr th {\n",
              "        vertical-align: top;\n",
              "    }\n",
              "\n",
              "    .dataframe thead th {\n",
              "        text-align: right;\n",
              "    }\n",
              "</style>\n",
              "<table border=\"1\" class=\"dataframe\">\n",
              "  <thead>\n",
              "    <tr style=\"text-align: right;\">\n",
              "      <th></th>\n",
              "      <th>Mthly_HH_Income</th>\n",
              "      <th>Mthly_HH_Expense</th>\n",
              "      <th>No_of_Fly_Members</th>\n",
              "      <th>Emi_or_Rent_Amt</th>\n",
              "      <th>Annual_HH_Income</th>\n",
              "      <th>Highest_Qualified_Member</th>\n",
              "      <th>No_of_Earning_Members</th>\n",
              "      <th>Type_Income</th>\n",
              "    </tr>\n",
              "  </thead>\n",
              "  <tbody>\n",
              "    <tr>\n",
              "      <th>10</th>\n",
              "      <td>20000</td>\n",
              "      <td>18000</td>\n",
              "      <td>4</td>\n",
              "      <td>8000</td>\n",
              "      <td>278400</td>\n",
              "      <td>Under-Graduate</td>\n",
              "      <td>2</td>\n",
              "      <td>Low</td>\n",
              "    </tr>\n",
              "    <tr>\n",
              "      <th>41</th>\n",
              "      <td>65000</td>\n",
              "      <td>20000</td>\n",
              "      <td>4</td>\n",
              "      <td>5000</td>\n",
              "      <td>647400</td>\n",
              "      <td>Illiterate</td>\n",
              "      <td>2</td>\n",
              "      <td>High</td>\n",
              "    </tr>\n",
              "    <tr>\n",
              "      <th>21</th>\n",
              "      <td>32000</td>\n",
              "      <td>15000</td>\n",
              "      <td>4</td>\n",
              "      <td>0</td>\n",
              "      <td>445440</td>\n",
              "      <td>Professional</td>\n",
              "      <td>1</td>\n",
              "      <td>Medium</td>\n",
              "    </tr>\n",
              "    <tr>\n",
              "      <th>23</th>\n",
              "      <td>34000</td>\n",
              "      <td>25000</td>\n",
              "      <td>3</td>\n",
              "      <td>4000</td>\n",
              "      <td>469200</td>\n",
              "      <td>Professional</td>\n",
              "      <td>1</td>\n",
              "      <td>Medium</td>\n",
              "    </tr>\n",
              "    <tr>\n",
              "      <th>31</th>\n",
              "      <td>45000</td>\n",
              "      <td>40000</td>\n",
              "      <td>6</td>\n",
              "      <td>3500</td>\n",
              "      <td>507600</td>\n",
              "      <td>Professional</td>\n",
              "      <td>2</td>\n",
              "      <td>Medium</td>\n",
              "    </tr>\n",
              "    <tr>\n",
              "      <th>48</th>\n",
              "      <td>100000</td>\n",
              "      <td>50000</td>\n",
              "      <td>4</td>\n",
              "      <td>20000</td>\n",
              "      <td>1032000</td>\n",
              "      <td>Professional</td>\n",
              "      <td>2</td>\n",
              "      <td>Huge</td>\n",
              "    </tr>\n",
              "    <tr>\n",
              "      <th>11</th>\n",
              "      <td>22000</td>\n",
              "      <td>25000</td>\n",
              "      <td>6</td>\n",
              "      <td>12000</td>\n",
              "      <td>279840</td>\n",
              "      <td>Illiterate</td>\n",
              "      <td>1</td>\n",
              "      <td>Medium</td>\n",
              "    </tr>\n",
              "    <tr>\n",
              "      <th>18</th>\n",
              "      <td>29000</td>\n",
              "      <td>6600</td>\n",
              "      <td>2</td>\n",
              "      <td>2000</td>\n",
              "      <td>348000</td>\n",
              "      <td>Graduate</td>\n",
              "      <td>1</td>\n",
              "      <td>Medium</td>\n",
              "    </tr>\n",
              "    <tr>\n",
              "      <th>3</th>\n",
              "      <td>10000</td>\n",
              "      <td>2000</td>\n",
              "      <td>1</td>\n",
              "      <td>0</td>\n",
              "      <td>97200</td>\n",
              "      <td>Illiterate</td>\n",
              "      <td>1</td>\n",
              "      <td>Low</td>\n",
              "    </tr>\n",
              "    <tr>\n",
              "      <th>12</th>\n",
              "      <td>23400</td>\n",
              "      <td>5000</td>\n",
              "      <td>3</td>\n",
              "      <td>0</td>\n",
              "      <td>292032</td>\n",
              "      <td>Illiterate</td>\n",
              "      <td>1</td>\n",
              "      <td>Medium</td>\n",
              "    </tr>\n",
              "  </tbody>\n",
              "</table>\n",
              "</div>"
            ],
            "text/plain": [
              "    Mthly_HH_Income  Mthly_HH_Expense  ...  No_of_Earning_Members  Type_Income\n",
              "10            20000             18000  ...                      2          Low\n",
              "41            65000             20000  ...                      2         High\n",
              "21            32000             15000  ...                      1       Medium\n",
              "23            34000             25000  ...                      1       Medium\n",
              "31            45000             40000  ...                      2       Medium\n",
              "48           100000             50000  ...                      2         Huge\n",
              "11            22000             25000  ...                      1       Medium\n",
              "18            29000              6600  ...                      1       Medium\n",
              "3             10000              2000  ...                      1          Low\n",
              "12            23400              5000  ...                      1       Medium\n",
              "\n",
              "[10 rows x 8 columns]"
            ]
          },
          "metadata": {
            "tags": []
          },
          "execution_count": 226
        }
      ]
    },
    {
      "cell_type": "code",
      "metadata": {
        "colab": {
          "base_uri": "https://localhost:8080/",
          "height": 203
        },
        "id": "DxWOW143Mg3i",
        "outputId": "867cc427-967a-40dc-d6d3-45a882049aa4"
      },
      "source": [
        "# Thống kê thu nhập với đơn vị % theo \n",
        "# Huge >= 80000$ , High >= 50000$ , Medium >= 20000$, Low < 20000$\n",
        "x = data.groupby('Type_Income')['Type_Income'].count()\n",
        "x = pd.DataFrame(x)\n",
        "x.columns = ['Percent']\n",
        "type_income = x/sum(x['Percent'])*100    # tính %\n",
        "type_income"
      ],
      "execution_count": null,
      "outputs": [
        {
          "output_type": "execute_result",
          "data": {
            "text/html": [
              "<div>\n",
              "<style scoped>\n",
              "    .dataframe tbody tr th:only-of-type {\n",
              "        vertical-align: middle;\n",
              "    }\n",
              "\n",
              "    .dataframe tbody tr th {\n",
              "        vertical-align: top;\n",
              "    }\n",
              "\n",
              "    .dataframe thead th {\n",
              "        text-align: right;\n",
              "    }\n",
              "</style>\n",
              "<table border=\"1\" class=\"dataframe\">\n",
              "  <thead>\n",
              "    <tr style=\"text-align: right;\">\n",
              "      <th></th>\n",
              "      <th>Percent</th>\n",
              "    </tr>\n",
              "    <tr>\n",
              "      <th>Type_Income</th>\n",
              "      <th></th>\n",
              "    </tr>\n",
              "  </thead>\n",
              "  <tbody>\n",
              "    <tr>\n",
              "      <th>High</th>\n",
              "      <td>14.0</td>\n",
              "    </tr>\n",
              "    <tr>\n",
              "      <th>Huge</th>\n",
              "      <td>12.0</td>\n",
              "    </tr>\n",
              "    <tr>\n",
              "      <th>Low</th>\n",
              "      <td>22.0</td>\n",
              "    </tr>\n",
              "    <tr>\n",
              "      <th>Medium</th>\n",
              "      <td>52.0</td>\n",
              "    </tr>\n",
              "  </tbody>\n",
              "</table>\n",
              "</div>"
            ],
            "text/plain": [
              "             Percent\n",
              "Type_Income         \n",
              "High            14.0\n",
              "Huge            12.0\n",
              "Low             22.0\n",
              "Medium          52.0"
            ]
          },
          "metadata": {
            "tags": []
          },
          "execution_count": 227
        }
      ]
    },
    {
      "cell_type": "code",
      "metadata": {
        "colab": {
          "base_uri": "https://localhost:8080/",
          "height": 317
        },
        "id": "K58lXRz8Mhtq",
        "outputId": "2e53e0ed-62ad-40a2-8026-39b5beccade7"
      },
      "source": [
        "# Vẽ biểu đồ phân loại thu nhập \n",
        "plt.figure(figsize=(16, 16), edgecolor='blue')\n",
        "type_income.plot()\n",
        "plt.xticks(rotation =0, fontsize=20)\n",
        "plt.xticks(fontsize=10)\n",
        "plt.xlabel('Type Income', fontsize=30)\n",
        "plt.ylabel('Percent', fontsize=15)\n",
        "plt.show()"
      ],
      "execution_count": null,
      "outputs": [
        {
          "output_type": "display_data",
          "data": {
            "text/plain": [
              "<Figure size 1152x1152 with 0 Axes>"
            ]
          },
          "metadata": {
            "tags": []
          }
        },
        {
          "output_type": "display_data",
          "data": {
            "image/png": "[encoded data removed]",
            "text/plain": [
              "<Figure size 432x288 with 1 Axes>"
            ]
          },
          "metadata": {
            "tags": [],
            "needs_background": "light"
          }
        }
      ]
    },
    {
      "cell_type": "code",
      "metadata": {
        "colab": {
          "base_uri": "https://localhost:8080/",
          "height": 480
        },
        "id": "nPyLfS1OMk2a",
        "outputId": "45a890ce-8a00-45d1-9ae9-d781318317a9"
      },
      "source": [
        "# Thống kê nộp thuế theo đơn vị % \n",
        "x = data.groupby('Emi_or_Rent_Amt')['Emi_or_Rent_Amt'].count()\n",
        "x = pd.DataFrame(x)\n",
        "x.columns = ['Percent']\n",
        "x.index.names = ['Count']\n",
        "amt = x/sum(x['Percent'])*100   # tính %\n",
        "amt"
      ],
      "execution_count": null,
      "outputs": [
        {
          "output_type": "execute_result",
          "data": {
            "text/html": [
              "<div>\n",
              "<style scoped>\n",
              "    .dataframe tbody tr th:only-of-type {\n",
              "        vertical-align: middle;\n",
              "    }\n",
              "\n",
              "    .dataframe tbody tr th {\n",
              "        vertical-align: top;\n",
              "    }\n",
              "\n",
              "    .dataframe thead th {\n",
              "        text-align: right;\n",
              "    }\n",
              "</style>\n",
              "<table border=\"1\" class=\"dataframe\">\n",
              "  <thead>\n",
              "    <tr style=\"text-align: right;\">\n",
              "      <th></th>\n",
              "      <th>Percent</th>\n",
              "    </tr>\n",
              "    <tr>\n",
              "      <th>Count</th>\n",
              "      <th></th>\n",
              "    </tr>\n",
              "  </thead>\n",
              "  <tbody>\n",
              "    <tr>\n",
              "      <th>0</th>\n",
              "      <td>60.0</td>\n",
              "    </tr>\n",
              "    <tr>\n",
              "      <th>1000</th>\n",
              "      <td>2.0</td>\n",
              "    </tr>\n",
              "    <tr>\n",
              "      <th>2000</th>\n",
              "      <td>4.0</td>\n",
              "    </tr>\n",
              "    <tr>\n",
              "      <th>2500</th>\n",
              "      <td>2.0</td>\n",
              "    </tr>\n",
              "    <tr>\n",
              "      <th>3000</th>\n",
              "      <td>4.0</td>\n",
              "    </tr>\n",
              "    <tr>\n",
              "      <th>3500</th>\n",
              "      <td>6.0</td>\n",
              "    </tr>\n",
              "    <tr>\n",
              "      <th>4000</th>\n",
              "      <td>2.0</td>\n",
              "    </tr>\n",
              "    <tr>\n",
              "      <th>5000</th>\n",
              "      <td>4.0</td>\n",
              "    </tr>\n",
              "    <tr>\n",
              "      <th>8000</th>\n",
              "      <td>4.0</td>\n",
              "    </tr>\n",
              "    <tr>\n",
              "      <th>10000</th>\n",
              "      <td>4.0</td>\n",
              "    </tr>\n",
              "    <tr>\n",
              "      <th>12000</th>\n",
              "      <td>4.0</td>\n",
              "    </tr>\n",
              "    <tr>\n",
              "      <th>20000</th>\n",
              "      <td>2.0</td>\n",
              "    </tr>\n",
              "    <tr>\n",
              "      <th>35000</th>\n",
              "      <td>2.0</td>\n",
              "    </tr>\n",
              "  </tbody>\n",
              "</table>\n",
              "</div>"
            ],
            "text/plain": [
              "       Percent\n",
              "Count         \n",
              "0         60.0\n",
              "1000       2.0\n",
              "2000       4.0\n",
              "2500       2.0\n",
              "3000       4.0\n",
              "3500       6.0\n",
              "4000       2.0\n",
              "5000       4.0\n",
              "8000       4.0\n",
              "10000      4.0\n",
              "12000      4.0\n",
              "20000      2.0\n",
              "35000      2.0"
            ]
          },
          "metadata": {
            "tags": []
          },
          "execution_count": 229
        }
      ]
    },
    {
      "cell_type": "code",
      "metadata": {
        "colab": {
          "base_uri": "https://localhost:8080/",
          "height": 331
        },
        "id": "DmAbnOhAMmSa",
        "outputId": "5aed68b0-28ee-4273-f036-634cb0cb8e65"
      },
      "source": [
        "# Biểu đồ thống kê nộp thuế \n",
        "plt.figure(figsize=(16, 16), edgecolor='blue')\n",
        "amt.plot()\n",
        "plt.xticks(rotation =30, fontsize=20)\n",
        "plt.xticks(fontsize=10)\n",
        "plt.xlabel('Count', fontsize=30)\n",
        "plt.ylabel('Percent', fontsize=15)\n",
        "plt.show()"
      ],
      "execution_count": null,
      "outputs": [
        {
          "output_type": "display_data",
          "data": {
            "text/plain": [
              "<Figure size 1152x1152 with 0 Axes>"
            ]
          },
          "metadata": {
            "tags": []
          }
        },
        {
          "output_type": "display_data",
          "data": {
            "image/png": "[encoded data removed]",
            "text/plain": [
              "<Figure size 432x288 with 1 Axes>"
            ]
          },
          "metadata": {
            "tags": [],
            "needs_background": "light"
          }
        }
      ]
    },
    {
      "cell_type": "code",
      "metadata": {
        "colab": {
          "base_uri": "https://localhost:8080/",
          "height": 234
        },
        "id": "A6P_faj1MoAh",
        "outputId": "c61e6573-963f-44fa-dfa6-e80998a80ab4"
      },
      "source": [
        "# Thống kê trình độ học vấn theo đơn vị % \n",
        "x = data.groupby('Highest_Qualified_Member')['Highest_Qualified_Member'].count()\n",
        "x = pd.DataFrame(x)\n",
        "x.columns = ['Percent']\n",
        "highest_qm = x/sum(x['Percent'])*100   # tính %\n",
        "highest_qm"
      ],
      "execution_count": null,
      "outputs": [
        {
          "output_type": "execute_result",
          "data": {
            "text/html": [
              "<div>\n",
              "<style scoped>\n",
              "    .dataframe tbody tr th:only-of-type {\n",
              "        vertical-align: middle;\n",
              "    }\n",
              "\n",
              "    .dataframe tbody tr th {\n",
              "        vertical-align: top;\n",
              "    }\n",
              "\n",
              "    .dataframe thead th {\n",
              "        text-align: right;\n",
              "    }\n",
              "</style>\n",
              "<table border=\"1\" class=\"dataframe\">\n",
              "  <thead>\n",
              "    <tr style=\"text-align: right;\">\n",
              "      <th></th>\n",
              "      <th>Percent</th>\n",
              "    </tr>\n",
              "    <tr>\n",
              "      <th>Highest_Qualified_Member</th>\n",
              "      <th></th>\n",
              "    </tr>\n",
              "  </thead>\n",
              "  <tbody>\n",
              "    <tr>\n",
              "      <th>Graduate</th>\n",
              "      <td>38.0</td>\n",
              "    </tr>\n",
              "    <tr>\n",
              "      <th>Illiterate</th>\n",
              "      <td>10.0</td>\n",
              "    </tr>\n",
              "    <tr>\n",
              "      <th>Post-Graduate</th>\n",
              "      <td>12.0</td>\n",
              "    </tr>\n",
              "    <tr>\n",
              "      <th>Professional</th>\n",
              "      <td>20.0</td>\n",
              "    </tr>\n",
              "    <tr>\n",
              "      <th>Under-Graduate</th>\n",
              "      <td>20.0</td>\n",
              "    </tr>\n",
              "  </tbody>\n",
              "</table>\n",
              "</div>"
            ],
            "text/plain": [
              "                          Percent\n",
              "Highest_Qualified_Member         \n",
              "Graduate                     38.0\n",
              "Illiterate                   10.0\n",
              "Post-Graduate                12.0\n",
              "Professional                 20.0\n",
              "Under-Graduate               20.0"
            ]
          },
          "metadata": {
            "tags": []
          },
          "execution_count": 231
        }
      ]
    },
    {
      "cell_type": "code",
      "metadata": {
        "colab": {
          "base_uri": "https://localhost:8080/",
          "height": 371
        },
        "id": "h1EATc1nMpUB",
        "outputId": "71ee1ef7-e819-47a6-8ec0-14ed044a576c"
      },
      "source": [
        "# Biểu đồ thống kê trình độ học vấn \n",
        "plt.figure(figsize=(16, 16), edgecolor='blue')\n",
        "highest_qm.plot()\n",
        "plt.xticks(rotation =45, fontsize=20)\n",
        "plt.xticks(fontsize=10)\n",
        "plt.xlabel('Count', fontsize=30)\n",
        "plt.ylabel('Percent', fontsize=15)\n",
        "plt.show()"
      ],
      "execution_count": null,
      "outputs": [
        {
          "output_type": "display_data",
          "data": {
            "text/plain": [
              "<Figure size 1152x1152 with 0 Axes>"
            ]
          },
          "metadata": {
            "tags": []
          }
        },
        {
          "output_type": "display_data",
          "data": {
            "image/png": "[encoded data removed]",
            "text/plain": [
              "<Figure size 432x288 with 1 Axes>"
            ]
          },
          "metadata": {
            "tags": [],
            "needs_background": "light"
          }
        }
      ]
    },
    {
      "cell_type": "markdown",
      "metadata": {
        "id": "MFXKvS-3Mq8C"
      },
      "source": [
        "Task 2: The Central Tendency"
      ]
    },
    {
      "cell_type": "code",
      "metadata": {
        "colab": {
          "base_uri": "https://localhost:8080/",
          "height": 250
        },
        "id": "fWtp2Xs6Ms88",
        "outputId": "d482785c-c53a-4d3b-d6e0-8c7a6b34b219"
      },
      "source": [
        "# Tính trung bình các cột \n",
        "print(\"Giá trị trung bình của dataset:\")\n",
        "pd.DataFrame(data.mean()).head(10)"
      ],
      "execution_count": null,
      "outputs": [
        {
          "output_type": "stream",
          "text": [
            "Giá trị trung bình của dataset:\n"
          ],
          "name": "stdout"
        },
        {
          "output_type": "execute_result",
          "data": {
            "text/html": [
              "<div>\n",
              "<style scoped>\n",
              "    .dataframe tbody tr th:only-of-type {\n",
              "        vertical-align: middle;\n",
              "    }\n",
              "\n",
              "    .dataframe tbody tr th {\n",
              "        vertical-align: top;\n",
              "    }\n",
              "\n",
              "    .dataframe thead th {\n",
              "        text-align: right;\n",
              "    }\n",
              "</style>\n",
              "<table border=\"1\" class=\"dataframe\">\n",
              "  <thead>\n",
              "    <tr style=\"text-align: right;\">\n",
              "      <th></th>\n",
              "      <th>0</th>\n",
              "    </tr>\n",
              "  </thead>\n",
              "  <tbody>\n",
              "    <tr>\n",
              "      <th>Mthly_HH_Income</th>\n",
              "      <td>41558.00</td>\n",
              "    </tr>\n",
              "    <tr>\n",
              "      <th>Mthly_HH_Expense</th>\n",
              "      <td>18818.00</td>\n",
              "    </tr>\n",
              "    <tr>\n",
              "      <th>No_of_Fly_Members</th>\n",
              "      <td>4.06</td>\n",
              "    </tr>\n",
              "    <tr>\n",
              "      <th>Emi_or_Rent_Amt</th>\n",
              "      <td>3060.00</td>\n",
              "    </tr>\n",
              "    <tr>\n",
              "      <th>Annual_HH_Income</th>\n",
              "      <td>490019.04</td>\n",
              "    </tr>\n",
              "    <tr>\n",
              "      <th>No_of_Earning_Members</th>\n",
              "      <td>1.46</td>\n",
              "    </tr>\n",
              "  </tbody>\n",
              "</table>\n",
              "</div>"
            ],
            "text/plain": [
              "                               0\n",
              "Mthly_HH_Income         41558.00\n",
              "Mthly_HH_Expense        18818.00\n",
              "No_of_Fly_Members           4.06\n",
              "Emi_or_Rent_Amt          3060.00\n",
              "Annual_HH_Income       490019.04\n",
              "No_of_Earning_Members       1.46"
            ]
          },
          "metadata": {
            "tags": []
          },
          "execution_count": 233
        }
      ]
    },
    {
      "cell_type": "code",
      "metadata": {
        "colab": {
          "base_uri": "https://localhost:8080/",
          "height": 250
        },
        "id": "KSwxP7EYMvjB",
        "outputId": "d22ed263-2221-4e71-e053-07772e8cd973"
      },
      "source": [
        "# Tính trung vị \n",
        "print(\"Trung vị của dataset:\")\n",
        "pd.DataFrame(data.median()).head(10)"
      ],
      "execution_count": null,
      "outputs": [
        {
          "output_type": "stream",
          "text": [
            "Trung vị của dataset:\n"
          ],
          "name": "stdout"
        },
        {
          "output_type": "execute_result",
          "data": {
            "text/html": [
              "<div>\n",
              "<style scoped>\n",
              "    .dataframe tbody tr th:only-of-type {\n",
              "        vertical-align: middle;\n",
              "    }\n",
              "\n",
              "    .dataframe tbody tr th {\n",
              "        vertical-align: top;\n",
              "    }\n",
              "\n",
              "    .dataframe thead th {\n",
              "        text-align: right;\n",
              "    }\n",
              "</style>\n",
              "<table border=\"1\" class=\"dataframe\">\n",
              "  <thead>\n",
              "    <tr style=\"text-align: right;\">\n",
              "      <th></th>\n",
              "      <th>0</th>\n",
              "    </tr>\n",
              "  </thead>\n",
              "  <tbody>\n",
              "    <tr>\n",
              "      <th>Mthly_HH_Income</th>\n",
              "      <td>35000.0</td>\n",
              "    </tr>\n",
              "    <tr>\n",
              "      <th>Mthly_HH_Expense</th>\n",
              "      <td>15500.0</td>\n",
              "    </tr>\n",
              "    <tr>\n",
              "      <th>No_of_Fly_Members</th>\n",
              "      <td>4.0</td>\n",
              "    </tr>\n",
              "    <tr>\n",
              "      <th>Emi_or_Rent_Amt</th>\n",
              "      <td>0.0</td>\n",
              "    </tr>\n",
              "    <tr>\n",
              "      <th>Annual_HH_Income</th>\n",
              "      <td>447420.0</td>\n",
              "    </tr>\n",
              "    <tr>\n",
              "      <th>No_of_Earning_Members</th>\n",
              "      <td>1.0</td>\n",
              "    </tr>\n",
              "  </tbody>\n",
              "</table>\n",
              "</div>"
            ],
            "text/plain": [
              "                              0\n",
              "Mthly_HH_Income         35000.0\n",
              "Mthly_HH_Expense        15500.0\n",
              "No_of_Fly_Members           4.0\n",
              "Emi_or_Rent_Amt             0.0\n",
              "Annual_HH_Income       447420.0\n",
              "No_of_Earning_Members       1.0"
            ]
          },
          "metadata": {
            "tags": []
          },
          "execution_count": 234
        }
      ]
    },
    {
      "cell_type": "code",
      "metadata": {
        "colab": {
          "base_uri": "https://localhost:8080/",
          "height": 117
        },
        "id": "rCq3UkIJMx5I",
        "outputId": "b24d36be-1447-450b-a29b-b8de05d449db"
      },
      "source": [
        "# Tìm mode\n",
        "print(\"Yếu vị của dataset:\")\n",
        "data.mode(dropna = True)"
      ],
      "execution_count": null,
      "outputs": [
        {
          "output_type": "stream",
          "text": [
            "Yếu vị của dataset:\n"
          ],
          "name": "stdout"
        },
        {
          "output_type": "execute_result",
          "data": {
            "text/html": [
              "<div>\n",
              "<style scoped>\n",
              "    .dataframe tbody tr th:only-of-type {\n",
              "        vertical-align: middle;\n",
              "    }\n",
              "\n",
              "    .dataframe tbody tr th {\n",
              "        vertical-align: top;\n",
              "    }\n",
              "\n",
              "    .dataframe thead th {\n",
              "        text-align: right;\n",
              "    }\n",
              "</style>\n",
              "<table border=\"1\" class=\"dataframe\">\n",
              "  <thead>\n",
              "    <tr style=\"text-align: right;\">\n",
              "      <th></th>\n",
              "      <th>Mthly_HH_Income</th>\n",
              "      <th>Mthly_HH_Expense</th>\n",
              "      <th>No_of_Fly_Members</th>\n",
              "      <th>Emi_or_Rent_Amt</th>\n",
              "      <th>Annual_HH_Income</th>\n",
              "      <th>Highest_Qualified_Member</th>\n",
              "      <th>No_of_Earning_Members</th>\n",
              "      <th>Type_Income</th>\n",
              "    </tr>\n",
              "  </thead>\n",
              "  <tbody>\n",
              "    <tr>\n",
              "      <th>0</th>\n",
              "      <td>45000</td>\n",
              "      <td>25000</td>\n",
              "      <td>4</td>\n",
              "      <td>0</td>\n",
              "      <td>590400</td>\n",
              "      <td>Graduate</td>\n",
              "      <td>1</td>\n",
              "      <td>Medium</td>\n",
              "    </tr>\n",
              "  </tbody>\n",
              "</table>\n",
              "</div>"
            ],
            "text/plain": [
              "   Mthly_HH_Income  Mthly_HH_Expense  ...  No_of_Earning_Members  Type_Income\n",
              "0            45000             25000  ...                      1       Medium\n",
              "\n",
              "[1 rows x 8 columns]"
            ]
          },
          "metadata": {
            "tags": []
          },
          "execution_count": 235
        }
      ]
    },
    {
      "cell_type": "markdown",
      "metadata": {
        "id": "uewCQwBYM06J"
      },
      "source": [
        "Task 3: Dispersion"
      ]
    },
    {
      "cell_type": "code",
      "metadata": {
        "colab": {
          "base_uri": "https://localhost:8080/"
        },
        "id": "KcT4W7X6M2pt",
        "outputId": "e092ac4e-0d94-4728-8beb-b4a68864fbdd"
      },
      "source": [
        "# Giá trị minmin\n",
        "min = data.min(skipna= True, numeric_only= True)\n",
        "print(' min value \\n \\n', min)"
      ],
      "execution_count": null,
      "outputs": [
        {
          "output_type": "stream",
          "text": [
            " min value \n",
            " \n",
            " Mthly_HH_Income           5000\n",
            "Mthly_HH_Expense          2000\n",
            "No_of_Fly_Members            1\n",
            "Emi_or_Rent_Amt              0\n",
            "Annual_HH_Income         64200\n",
            "No_of_Earning_Members        1\n",
            "dtype: int64\n"
          ],
          "name": "stdout"
        }
      ]
    },
    {
      "cell_type": "code",
      "metadata": {
        "colab": {
          "base_uri": "https://localhost:8080/"
        },
        "id": "qG_g1FnhM4aR",
        "outputId": "0561048f-78bb-47ea-999f-d5fea7bb7eb0"
      },
      "source": [
        "# Giá trị max \n",
        "max = data.max(skipna= True, numeric_only= True) \n",
        "print('max value \\n \\n', max)"
      ],
      "execution_count": null,
      "outputs": [
        {
          "output_type": "stream",
          "text": [
            "max value \n",
            " \n",
            " Mthly_HH_Income           100000\n",
            "Mthly_HH_Expense           50000\n",
            "No_of_Fly_Members              7\n",
            "Emi_or_Rent_Amt            35000\n",
            "Annual_HH_Income         1404000\n",
            "No_of_Earning_Members          4\n",
            "dtype: int64\n"
          ],
          "name": "stdout"
        }
      ]
    },
    {
      "cell_type": "code",
      "metadata": {
        "colab": {
          "base_uri": "https://localhost:8080/"
        },
        "id": "zjPO4vAfM57R",
        "outputId": "a4803546-fa8d-469f-9486-085f8f97f4d3"
      },
      "source": [
        "# Phạm vi dữ liệu \n",
        "print('max value - min value \\n \\n', max - min)"
      ],
      "execution_count": null,
      "outputs": [
        {
          "output_type": "stream",
          "text": [
            "max value - min value \n",
            " \n",
            " Mthly_HH_Income            95000\n",
            "Mthly_HH_Expense           48000\n",
            "No_of_Fly_Members              6\n",
            "Emi_or_Rent_Amt            35000\n",
            "Annual_HH_Income         1339800\n",
            "No_of_Earning_Members          3\n",
            "dtype: int64\n"
          ],
          "name": "stdout"
        }
      ]
    },
    {
      "cell_type": "code",
      "metadata": {
        "colab": {
          "base_uri": "https://localhost:8080/"
        },
        "id": "8bs3aQcwM7ig",
        "outputId": "ee3f1ea5-ed86-4593-b580-2896f383913a"
      },
      "source": [
        "# Độ lệch chuẩn \n",
        "print(\"standard deviation \\n \\n\")\n",
        "data.std(skipna = True)"
      ],
      "execution_count": null,
      "outputs": [
        {
          "output_type": "stream",
          "text": [
            "standard deviation \n",
            " \n",
            "\n"
          ],
          "name": "stdout"
        },
        {
          "output_type": "execute_result",
          "data": {
            "text/plain": [
              "Mthly_HH_Income           26097.908979\n",
              "Mthly_HH_Expense          12090.216824\n",
              "No_of_Fly_Members             1.517382\n",
              "Emi_or_Rent_Amt            6241.434948\n",
              "Annual_HH_Income         320135.792123\n",
              "No_of_Earning_Members         0.734291\n",
              "dtype: float64"
            ]
          },
          "metadata": {
            "tags": []
          },
          "execution_count": 239
        }
      ]
    },
    {
      "cell_type": "code",
      "metadata": {
        "colab": {
          "base_uri": "https://localhost:8080/",
          "height": 254
        },
        "id": "oQAqfTqUM-ow",
        "outputId": "129c412f-d23e-4aec-cf51-ea86c7bb8a32"
      },
      "source": [
        "# Biểu diễn sự phụ thuộc giữa các cột \n",
        "data_depend = data.corr(method = \"pearson\")\n",
        "data_depend.head(10)"
      ],
      "execution_count": null,
      "outputs": [
        {
          "output_type": "execute_result",
          "data": {
            "text/html": [
              "<div>\n",
              "<style scoped>\n",
              "    .dataframe tbody tr th:only-of-type {\n",
              "        vertical-align: middle;\n",
              "    }\n",
              "\n",
              "    .dataframe tbody tr th {\n",
              "        vertical-align: top;\n",
              "    }\n",
              "\n",
              "    .dataframe thead th {\n",
              "        text-align: right;\n",
              "    }\n",
              "</style>\n",
              "<table border=\"1\" class=\"dataframe\">\n",
              "  <thead>\n",
              "    <tr style=\"text-align: right;\">\n",
              "      <th></th>\n",
              "      <th>Mthly_HH_Income</th>\n",
              "      <th>Mthly_HH_Expense</th>\n",
              "      <th>No_of_Fly_Members</th>\n",
              "      <th>Emi_or_Rent_Amt</th>\n",
              "      <th>Annual_HH_Income</th>\n",
              "      <th>No_of_Earning_Members</th>\n",
              "    </tr>\n",
              "  </thead>\n",
              "  <tbody>\n",
              "    <tr>\n",
              "      <th>Mthly_HH_Income</th>\n",
              "      <td>1.000000</td>\n",
              "      <td>0.649215</td>\n",
              "      <td>0.448317</td>\n",
              "      <td>0.036976</td>\n",
              "      <td>0.970315</td>\n",
              "      <td>0.347883</td>\n",
              "    </tr>\n",
              "    <tr>\n",
              "      <th>Mthly_HH_Expense</th>\n",
              "      <td>0.649215</td>\n",
              "      <td>1.000000</td>\n",
              "      <td>0.639702</td>\n",
              "      <td>0.405280</td>\n",
              "      <td>0.591222</td>\n",
              "      <td>0.311915</td>\n",
              "    </tr>\n",
              "    <tr>\n",
              "      <th>No_of_Fly_Members</th>\n",
              "      <td>0.448317</td>\n",
              "      <td>0.639702</td>\n",
              "      <td>1.000000</td>\n",
              "      <td>0.085808</td>\n",
              "      <td>0.430868</td>\n",
              "      <td>0.597482</td>\n",
              "    </tr>\n",
              "    <tr>\n",
              "      <th>Emi_or_Rent_Amt</th>\n",
              "      <td>0.036976</td>\n",
              "      <td>0.405280</td>\n",
              "      <td>0.085808</td>\n",
              "      <td>1.000000</td>\n",
              "      <td>0.002716</td>\n",
              "      <td>-0.097431</td>\n",
              "    </tr>\n",
              "    <tr>\n",
              "      <th>Annual_HH_Income</th>\n",
              "      <td>0.970315</td>\n",
              "      <td>0.591222</td>\n",
              "      <td>0.430868</td>\n",
              "      <td>0.002716</td>\n",
              "      <td>1.000000</td>\n",
              "      <td>0.296679</td>\n",
              "    </tr>\n",
              "    <tr>\n",
              "      <th>No_of_Earning_Members</th>\n",
              "      <td>0.347883</td>\n",
              "      <td>0.311915</td>\n",
              "      <td>0.597482</td>\n",
              "      <td>-0.097431</td>\n",
              "      <td>0.296679</td>\n",
              "      <td>1.000000</td>\n",
              "    </tr>\n",
              "  </tbody>\n",
              "</table>\n",
              "</div>"
            ],
            "text/plain": [
              "                       Mthly_HH_Income  ...  No_of_Earning_Members\n",
              "Mthly_HH_Income               1.000000  ...               0.347883\n",
              "Mthly_HH_Expense              0.649215  ...               0.311915\n",
              "No_of_Fly_Members             0.448317  ...               0.597482\n",
              "Emi_or_Rent_Amt               0.036976  ...              -0.097431\n",
              "Annual_HH_Income              0.970315  ...               0.296679\n",
              "No_of_Earning_Members         0.347883  ...               1.000000\n",
              "\n",
              "[6 rows x 6 columns]"
            ]
          },
          "metadata": {
            "tags": []
          },
          "execution_count": 240
        }
      ]
    },
    {
      "cell_type": "code",
      "metadata": {
        "colab": {
          "base_uri": "https://localhost:8080/",
          "height": 550
        },
        "id": "eRZoKfXHNAWQ",
        "outputId": "c6f1a024-539b-4f9c-de18-fa45add2c1d6"
      },
      "source": [
        "plt.figure(figsize=(8,6))\n",
        "sns.set_context('paper', font_scale=1.5)\n",
        "sns.heatmap(data_depend, annot=True, cmap='Greens', linewidths=.9, linecolor='black')"
      ],
      "execution_count": null,
      "outputs": [
        {
          "output_type": "execute_result",
          "data": {
            "text/plain": [
              "<matplotlib.axes._subplots.AxesSubplot at 0x7fcd85bbce90>"
            ]
          },
          "metadata": {
            "tags": []
          },
          "execution_count": 241
        },
        {
          "output_type": "display_data",
          "data": {
            "image/png": "[encoded data removed]",
            "text/plain": [
              "<Figure size 576x432 with 2 Axes>"
            ]
          },
          "metadata": {
            "tags": [],
            "needs_background": "light"
          }
        }
      ]
    },
    {
      "cell_type": "code",
      "metadata": {
        "colab": {
          "base_uri": "https://localhost:8080/",
          "height": 315
        },
        "id": "wVSc3lh-NBl4",
        "outputId": "5fef03c0-c5b5-40fb-9110-0368f4587838"
      },
      "source": [
        "# Thống kê đơn giản dữ liệu bằng describe \n",
        "data.describe()"
      ],
      "execution_count": null,
      "outputs": [
        {
          "output_type": "execute_result",
          "data": {
            "text/html": [
              "<div>\n",
              "<style scoped>\n",
              "    .dataframe tbody tr th:only-of-type {\n",
              "        vertical-align: middle;\n",
              "    }\n",
              "\n",
              "    .dataframe tbody tr th {\n",
              "        vertical-align: top;\n",
              "    }\n",
              "\n",
              "    .dataframe thead th {\n",
              "        text-align: right;\n",
              "    }\n",
              "</style>\n",
              "<table border=\"1\" class=\"dataframe\">\n",
              "  <thead>\n",
              "    <tr style=\"text-align: right;\">\n",
              "      <th></th>\n",
              "      <th>Mthly_HH_Income</th>\n",
              "      <th>Mthly_HH_Expense</th>\n",
              "      <th>No_of_Fly_Members</th>\n",
              "      <th>Emi_or_Rent_Amt</th>\n",
              "      <th>Annual_HH_Income</th>\n",
              "      <th>No_of_Earning_Members</th>\n",
              "    </tr>\n",
              "  </thead>\n",
              "  <tbody>\n",
              "    <tr>\n",
              "      <th>count</th>\n",
              "      <td>50.000000</td>\n",
              "      <td>50.000000</td>\n",
              "      <td>50.000000</td>\n",
              "      <td>50.000000</td>\n",
              "      <td>5.000000e+01</td>\n",
              "      <td>50.000000</td>\n",
              "    </tr>\n",
              "    <tr>\n",
              "      <th>mean</th>\n",
              "      <td>41558.000000</td>\n",
              "      <td>18818.000000</td>\n",
              "      <td>4.060000</td>\n",
              "      <td>3060.000000</td>\n",
              "      <td>4.900190e+05</td>\n",
              "      <td>1.460000</td>\n",
              "    </tr>\n",
              "    <tr>\n",
              "      <th>std</th>\n",
              "      <td>26097.908979</td>\n",
              "      <td>12090.216824</td>\n",
              "      <td>1.517382</td>\n",
              "      <td>6241.434948</td>\n",
              "      <td>3.201358e+05</td>\n",
              "      <td>0.734291</td>\n",
              "    </tr>\n",
              "    <tr>\n",
              "      <th>min</th>\n",
              "      <td>5000.000000</td>\n",
              "      <td>2000.000000</td>\n",
              "      <td>1.000000</td>\n",
              "      <td>0.000000</td>\n",
              "      <td>6.420000e+04</td>\n",
              "      <td>1.000000</td>\n",
              "    </tr>\n",
              "    <tr>\n",
              "      <th>25%</th>\n",
              "      <td>23550.000000</td>\n",
              "      <td>10000.000000</td>\n",
              "      <td>3.000000</td>\n",
              "      <td>0.000000</td>\n",
              "      <td>2.587500e+05</td>\n",
              "      <td>1.000000</td>\n",
              "    </tr>\n",
              "    <tr>\n",
              "      <th>50%</th>\n",
              "      <td>35000.000000</td>\n",
              "      <td>15500.000000</td>\n",
              "      <td>4.000000</td>\n",
              "      <td>0.000000</td>\n",
              "      <td>4.474200e+05</td>\n",
              "      <td>1.000000</td>\n",
              "    </tr>\n",
              "    <tr>\n",
              "      <th>75%</th>\n",
              "      <td>50375.000000</td>\n",
              "      <td>25000.000000</td>\n",
              "      <td>5.000000</td>\n",
              "      <td>3500.000000</td>\n",
              "      <td>5.947200e+05</td>\n",
              "      <td>2.000000</td>\n",
              "    </tr>\n",
              "    <tr>\n",
              "      <th>max</th>\n",
              "      <td>100000.000000</td>\n",
              "      <td>50000.000000</td>\n",
              "      <td>7.000000</td>\n",
              "      <td>35000.000000</td>\n",
              "      <td>1.404000e+06</td>\n",
              "      <td>4.000000</td>\n",
              "    </tr>\n",
              "  </tbody>\n",
              "</table>\n",
              "</div>"
            ],
            "text/plain": [
              "       Mthly_HH_Income  ...  No_of_Earning_Members\n",
              "count        50.000000  ...              50.000000\n",
              "mean      41558.000000  ...               1.460000\n",
              "std       26097.908979  ...               0.734291\n",
              "min        5000.000000  ...               1.000000\n",
              "25%       23550.000000  ...               1.000000\n",
              "50%       35000.000000  ...               1.000000\n",
              "75%       50375.000000  ...               2.000000\n",
              "max      100000.000000  ...               4.000000\n",
              "\n",
              "[8 rows x 6 columns]"
            ]
          },
          "metadata": {
            "tags": []
          },
          "execution_count": 242
        }
      ]
    },
    {
      "cell_type": "code",
      "metadata": {
        "colab": {
          "base_uri": "https://localhost:8080/",
          "height": 625
        },
        "id": "MB1ZNbB-NEVA",
        "outputId": "49737719-c5cb-471a-b0a9-2d74b2b8c6c6"
      },
      "source": [
        "# Tương quan giữa thu nhập và chi tiêu hàng tháng\n",
        "\n",
        "\n",
        "plt.figure(figsize=(7, 10))\n",
        "plt.title('Compare Income with Expense', fontsize=30)\n",
        "data[['Mthly_HH_Income', 'Mthly_HH_Expense']].boxplot()\n",
        "plt.ylabel('Count')\n",
        "plt.show()"
      ],
      "execution_count": null,
      "outputs": [
        {
          "output_type": "display_data",
          "data": {
            "image/png": "[encoded data removed]",
            "text/plain": [
              "<Figure size 504x720 with 1 Axes>"
            ]
          },
          "metadata": {
            "tags": [],
            "needs_background": "light"
          }
        }
      ]
    },
    {
      "cell_type": "code",
      "metadata": {
        "colab": {
          "base_uri": "https://localhost:8080/",
          "height": 270
        },
        "id": "RsBfFqu5NGHA",
        "outputId": "bc9d1515-464a-49f5-a745-7fcc5c67d1cf"
      },
      "source": [
        "data[[\"Mthly_HH_Expense\", \"Mthly_HH_Income\"]].plot()\n",
        "plt.ylabel('Count')\n",
        "plt.show()"
      ],
      "execution_count": null,
      "outputs": [
        {
          "output_type": "display_data",
          "data": {
            "image/png": "[encoded data removed]",
            "text/plain": [
              "<Figure size 432x288 with 1 Axes>"
            ]
          },
          "metadata": {
            "tags": [],
            "needs_background": "light"
          }
        }
      ]
    },
    {
      "cell_type": "code",
      "metadata": {
        "colab": {
          "base_uri": "https://localhost:8080/",
          "height": 364
        },
        "id": "zuYH5nU2NHYw",
        "outputId": "4dbd9149-1ac2-4c14-e2c1-90c9159e9aeb"
      },
      "source": [
        "data_g = sns.PairGrid(data,\n",
        "                      hue='Highest_Qualified_Member',\n",
        "                      x_vars=['Mthly_HH_Income', 'Mthly_HH_Expense'],\n",
        "                      y_vars=['Emi_or_Rent_Amt', 'Annual_HH_Income'])\n",
        "data_g.map(plt.scatter)\n",
        "data_g.add_legend()\n",
        "plt.show()"
      ],
      "execution_count": null,
      "outputs": [
        {
          "output_type": "display_data",
          "data": {
            "image/png": "[encoded data removed]",
            "text/plain": [
              "<Figure size 563.81x360 with 4 Axes>"
            ]
          },
          "metadata": {
            "tags": [],
            "needs_background": "light"
          }
        }
      ]
    },
    {
      "cell_type": "code",
      "metadata": {
        "colab": {
          "base_uri": "https://localhost:8080/",
          "height": 1000
        },
        "id": "xUUE6U2iNIvg",
        "outputId": "ddc7bfbb-4107-41fd-e5c2-3dbb87d9c9fd"
      },
      "source": [
        "# Phân nhóm dữ liệu \n",
        "df_sort = data.sort_values(by= [data.columns[5], \n",
        "                                data.columns[4]], \n",
        "                                ascending= False)\n",
        "df_sort"
      ],
      "execution_count": null,
      "outputs": [
        {
          "output_type": "execute_result",
          "data": {
            "text/html": [
              "<div>\n",
              "<style scoped>\n",
              "    .dataframe tbody tr th:only-of-type {\n",
              "        vertical-align: middle;\n",
              "    }\n",
              "\n",
              "    .dataframe tbody tr th {\n",
              "        vertical-align: top;\n",
              "    }\n",
              "\n",
              "    .dataframe thead th {\n",
              "        text-align: right;\n",
              "    }\n",
              "</style>\n",
              "<table border=\"1\" class=\"dataframe\">\n",
              "  <thead>\n",
              "    <tr style=\"text-align: right;\">\n",
              "      <th></th>\n",
              "      <th>Mthly_HH_Income</th>\n",
              "      <th>Mthly_HH_Expense</th>\n",
              "      <th>No_of_Fly_Members</th>\n",
              "      <th>Emi_or_Rent_Amt</th>\n",
              "      <th>Annual_HH_Income</th>\n",
              "      <th>Highest_Qualified_Member</th>\n",
              "      <th>No_of_Earning_Members</th>\n",
              "      <th>Type_Income</th>\n",
              "    </tr>\n",
              "  </thead>\n",
              "  <tbody>\n",
              "    <tr>\n",
              "      <th>44</th>\n",
              "      <td>85000</td>\n",
              "      <td>25000</td>\n",
              "      <td>5</td>\n",
              "      <td>0</td>\n",
              "      <td>1142400</td>\n",
              "      <td>Under-Graduate</td>\n",
              "      <td>2</td>\n",
              "      <td>Huge</td>\n",
              "    </tr>\n",
              "    <tr>\n",
              "      <th>26</th>\n",
              "      <td>39000</td>\n",
              "      <td>8000</td>\n",
              "      <td>4</td>\n",
              "      <td>0</td>\n",
              "      <td>556920</td>\n",
              "      <td>Under-Graduate</td>\n",
              "      <td>1</td>\n",
              "      <td>Medium</td>\n",
              "    </tr>\n",
              "    <tr>\n",
              "      <th>27</th>\n",
              "      <td>40000</td>\n",
              "      <td>10000</td>\n",
              "      <td>4</td>\n",
              "      <td>0</td>\n",
              "      <td>412800</td>\n",
              "      <td>Under-Graduate</td>\n",
              "      <td>1</td>\n",
              "      <td>Medium</td>\n",
              "    </tr>\n",
              "    <tr>\n",
              "      <th>20</th>\n",
              "      <td>30500</td>\n",
              "      <td>25000</td>\n",
              "      <td>5</td>\n",
              "      <td>5000</td>\n",
              "      <td>351360</td>\n",
              "      <td>Under-Graduate</td>\n",
              "      <td>1</td>\n",
              "      <td>Medium</td>\n",
              "    </tr>\n",
              "    <tr>\n",
              "      <th>10</th>\n",
              "      <td>20000</td>\n",
              "      <td>18000</td>\n",
              "      <td>4</td>\n",
              "      <td>8000</td>\n",
              "      <td>278400</td>\n",
              "      <td>Under-Graduate</td>\n",
              "      <td>2</td>\n",
              "      <td>Low</td>\n",
              "    </tr>\n",
              "    <tr>\n",
              "      <th>17</th>\n",
              "      <td>25000</td>\n",
              "      <td>10000</td>\n",
              "      <td>6</td>\n",
              "      <td>0</td>\n",
              "      <td>258000</td>\n",
              "      <td>Under-Graduate</td>\n",
              "      <td>3</td>\n",
              "      <td>Medium</td>\n",
              "    </tr>\n",
              "    <tr>\n",
              "      <th>9</th>\n",
              "      <td>20000</td>\n",
              "      <td>9000</td>\n",
              "      <td>4</td>\n",
              "      <td>0</td>\n",
              "      <td>220800</td>\n",
              "      <td>Under-Graduate</td>\n",
              "      <td>2</td>\n",
              "      <td>Low</td>\n",
              "    </tr>\n",
              "    <tr>\n",
              "      <th>8</th>\n",
              "      <td>19000</td>\n",
              "      <td>9000</td>\n",
              "      <td>2</td>\n",
              "      <td>0</td>\n",
              "      <td>218880</td>\n",
              "      <td>Under-Graduate</td>\n",
              "      <td>1</td>\n",
              "      <td>Low</td>\n",
              "    </tr>\n",
              "    <tr>\n",
              "      <th>2</th>\n",
              "      <td>10000</td>\n",
              "      <td>4500</td>\n",
              "      <td>2</td>\n",
              "      <td>0</td>\n",
              "      <td>112800</td>\n",
              "      <td>Under-Graduate</td>\n",
              "      <td>1</td>\n",
              "      <td>Low</td>\n",
              "    </tr>\n",
              "    <tr>\n",
              "      <th>0</th>\n",
              "      <td>5000</td>\n",
              "      <td>8000</td>\n",
              "      <td>3</td>\n",
              "      <td>2000</td>\n",
              "      <td>64200</td>\n",
              "      <td>Under-Graduate</td>\n",
              "      <td>1</td>\n",
              "      <td>Low</td>\n",
              "    </tr>\n",
              "    <tr>\n",
              "      <th>46</th>\n",
              "      <td>98000</td>\n",
              "      <td>25000</td>\n",
              "      <td>5</td>\n",
              "      <td>0</td>\n",
              "      <td>1152480</td>\n",
              "      <td>Professional</td>\n",
              "      <td>2</td>\n",
              "      <td>Huge</td>\n",
              "    </tr>\n",
              "    <tr>\n",
              "      <th>48</th>\n",
              "      <td>100000</td>\n",
              "      <td>50000</td>\n",
              "      <td>4</td>\n",
              "      <td>20000</td>\n",
              "      <td>1032000</td>\n",
              "      <td>Professional</td>\n",
              "      <td>2</td>\n",
              "      <td>Huge</td>\n",
              "    </tr>\n",
              "    <tr>\n",
              "      <th>37</th>\n",
              "      <td>50500</td>\n",
              "      <td>20000</td>\n",
              "      <td>3</td>\n",
              "      <td>0</td>\n",
              "      <td>581760</td>\n",
              "      <td>Professional</td>\n",
              "      <td>2</td>\n",
              "      <td>High</td>\n",
              "    </tr>\n",
              "    <tr>\n",
              "      <th>36</th>\n",
              "      <td>50000</td>\n",
              "      <td>20000</td>\n",
              "      <td>4</td>\n",
              "      <td>0</td>\n",
              "      <td>570000</td>\n",
              "      <td>Professional</td>\n",
              "      <td>1</td>\n",
              "      <td>Medium</td>\n",
              "    </tr>\n",
              "    <tr>\n",
              "      <th>31</th>\n",
              "      <td>45000</td>\n",
              "      <td>40000</td>\n",
              "      <td>6</td>\n",
              "      <td>3500</td>\n",
              "      <td>507600</td>\n",
              "      <td>Professional</td>\n",
              "      <td>2</td>\n",
              "      <td>Medium</td>\n",
              "    </tr>\n",
              "    <tr>\n",
              "      <th>23</th>\n",
              "      <td>34000</td>\n",
              "      <td>25000</td>\n",
              "      <td>3</td>\n",
              "      <td>4000</td>\n",
              "      <td>469200</td>\n",
              "      <td>Professional</td>\n",
              "      <td>1</td>\n",
              "      <td>Medium</td>\n",
              "    </tr>\n",
              "    <tr>\n",
              "      <th>35</th>\n",
              "      <td>47000</td>\n",
              "      <td>15000</td>\n",
              "      <td>7</td>\n",
              "      <td>0</td>\n",
              "      <td>456840</td>\n",
              "      <td>Professional</td>\n",
              "      <td>4</td>\n",
              "      <td>Medium</td>\n",
              "    </tr>\n",
              "    <tr>\n",
              "      <th>25</th>\n",
              "      <td>35000</td>\n",
              "      <td>25000</td>\n",
              "      <td>4</td>\n",
              "      <td>0</td>\n",
              "      <td>449400</td>\n",
              "      <td>Professional</td>\n",
              "      <td>2</td>\n",
              "      <td>Medium</td>\n",
              "    </tr>\n",
              "    <tr>\n",
              "      <th>21</th>\n",
              "      <td>32000</td>\n",
              "      <td>15000</td>\n",
              "      <td>4</td>\n",
              "      <td>0</td>\n",
              "      <td>445440</td>\n",
              "      <td>Professional</td>\n",
              "      <td>1</td>\n",
              "      <td>Medium</td>\n",
              "    </tr>\n",
              "    <tr>\n",
              "      <th>22</th>\n",
              "      <td>34000</td>\n",
              "      <td>19000</td>\n",
              "      <td>6</td>\n",
              "      <td>0</td>\n",
              "      <td>330480</td>\n",
              "      <td>Professional</td>\n",
              "      <td>1</td>\n",
              "      <td>Medium</td>\n",
              "    </tr>\n",
              "    <tr>\n",
              "      <th>49</th>\n",
              "      <td>100000</td>\n",
              "      <td>40000</td>\n",
              "      <td>6</td>\n",
              "      <td>10000</td>\n",
              "      <td>1320000</td>\n",
              "      <td>Post-Graduate</td>\n",
              "      <td>1</td>\n",
              "      <td>Huge</td>\n",
              "    </tr>\n",
              "    <tr>\n",
              "      <th>45</th>\n",
              "      <td>90000</td>\n",
              "      <td>48000</td>\n",
              "      <td>7</td>\n",
              "      <td>0</td>\n",
              "      <td>885600</td>\n",
              "      <td>Post-Graduate</td>\n",
              "      <td>3</td>\n",
              "      <td>Huge</td>\n",
              "    </tr>\n",
              "    <tr>\n",
              "      <th>33</th>\n",
              "      <td>45000</td>\n",
              "      <td>22000</td>\n",
              "      <td>4</td>\n",
              "      <td>2500</td>\n",
              "      <td>610200</td>\n",
              "      <td>Post-Graduate</td>\n",
              "      <td>1</td>\n",
              "      <td>Medium</td>\n",
              "    </tr>\n",
              "    <tr>\n",
              "      <th>39</th>\n",
              "      <td>60000</td>\n",
              "      <td>10000</td>\n",
              "      <td>3</td>\n",
              "      <td>0</td>\n",
              "      <td>590400</td>\n",
              "      <td>Post-Graduate</td>\n",
              "      <td>1</td>\n",
              "      <td>High</td>\n",
              "    </tr>\n",
              "    <tr>\n",
              "      <th>32</th>\n",
              "      <td>45000</td>\n",
              "      <td>10000</td>\n",
              "      <td>2</td>\n",
              "      <td>1000</td>\n",
              "      <td>437400</td>\n",
              "      <td>Post-Graduate</td>\n",
              "      <td>1</td>\n",
              "      <td>Medium</td>\n",
              "    </tr>\n",
              "    <tr>\n",
              "      <th>6</th>\n",
              "      <td>15000</td>\n",
              "      <td>16000</td>\n",
              "      <td>3</td>\n",
              "      <td>35000</td>\n",
              "      <td>167400</td>\n",
              "      <td>Post-Graduate</td>\n",
              "      <td>1</td>\n",
              "      <td>Low</td>\n",
              "    </tr>\n",
              "    <tr>\n",
              "      <th>41</th>\n",
              "      <td>65000</td>\n",
              "      <td>20000</td>\n",
              "      <td>4</td>\n",
              "      <td>5000</td>\n",
              "      <td>647400</td>\n",
              "      <td>Illiterate</td>\n",
              "      <td>2</td>\n",
              "      <td>High</td>\n",
              "    </tr>\n",
              "    <tr>\n",
              "      <th>12</th>\n",
              "      <td>23400</td>\n",
              "      <td>5000</td>\n",
              "      <td>3</td>\n",
              "      <td>0</td>\n",
              "      <td>292032</td>\n",
              "      <td>Illiterate</td>\n",
              "      <td>1</td>\n",
              "      <td>Medium</td>\n",
              "    </tr>\n",
              "    <tr>\n",
              "      <th>11</th>\n",
              "      <td>22000</td>\n",
              "      <td>25000</td>\n",
              "      <td>6</td>\n",
              "      <td>12000</td>\n",
              "      <td>279840</td>\n",
              "      <td>Illiterate</td>\n",
              "      <td>1</td>\n",
              "      <td>Medium</td>\n",
              "    </tr>\n",
              "    <tr>\n",
              "      <th>3</th>\n",
              "      <td>10000</td>\n",
              "      <td>2000</td>\n",
              "      <td>1</td>\n",
              "      <td>0</td>\n",
              "      <td>97200</td>\n",
              "      <td>Illiterate</td>\n",
              "      <td>1</td>\n",
              "      <td>Low</td>\n",
              "    </tr>\n",
              "    <tr>\n",
              "      <th>1</th>\n",
              "      <td>6000</td>\n",
              "      <td>7000</td>\n",
              "      <td>2</td>\n",
              "      <td>3000</td>\n",
              "      <td>79920</td>\n",
              "      <td>Illiterate</td>\n",
              "      <td>1</td>\n",
              "      <td>Low</td>\n",
              "    </tr>\n",
              "    <tr>\n",
              "      <th>47</th>\n",
              "      <td>100000</td>\n",
              "      <td>30000</td>\n",
              "      <td>6</td>\n",
              "      <td>0</td>\n",
              "      <td>1404000</td>\n",
              "      <td>Graduate</td>\n",
              "      <td>3</td>\n",
              "      <td>Huge</td>\n",
              "    </tr>\n",
              "    <tr>\n",
              "      <th>43</th>\n",
              "      <td>80000</td>\n",
              "      <td>20000</td>\n",
              "      <td>4</td>\n",
              "      <td>0</td>\n",
              "      <td>1075200</td>\n",
              "      <td>Graduate</td>\n",
              "      <td>1</td>\n",
              "      <td>High</td>\n",
              "    </tr>\n",
              "    <tr>\n",
              "      <th>42</th>\n",
              "      <td>70000</td>\n",
              "      <td>9000</td>\n",
              "      <td>2</td>\n",
              "      <td>0</td>\n",
              "      <td>756000</td>\n",
              "      <td>Graduate</td>\n",
              "      <td>1</td>\n",
              "      <td>High</td>\n",
              "    </tr>\n",
              "    <tr>\n",
              "      <th>29</th>\n",
              "      <td>43000</td>\n",
              "      <td>12000</td>\n",
              "      <td>4</td>\n",
              "      <td>0</td>\n",
              "      <td>619200</td>\n",
              "      <td>Graduate</td>\n",
              "      <td>1</td>\n",
              "      <td>Medium</td>\n",
              "    </tr>\n",
              "    <tr>\n",
              "      <th>38</th>\n",
              "      <td>55000</td>\n",
              "      <td>45000</td>\n",
              "      <td>6</td>\n",
              "      <td>12000</td>\n",
              "      <td>600600</td>\n",
              "      <td>Graduate</td>\n",
              "      <td>2</td>\n",
              "      <td>High</td>\n",
              "    </tr>\n",
              "    <tr>\n",
              "      <th>34</th>\n",
              "      <td>46000</td>\n",
              "      <td>25000</td>\n",
              "      <td>5</td>\n",
              "      <td>3500</td>\n",
              "      <td>596160</td>\n",
              "      <td>Graduate</td>\n",
              "      <td>1</td>\n",
              "      <td>Medium</td>\n",
              "    </tr>\n",
              "    <tr>\n",
              "      <th>40</th>\n",
              "      <td>60000</td>\n",
              "      <td>50000</td>\n",
              "      <td>6</td>\n",
              "      <td>10000</td>\n",
              "      <td>590400</td>\n",
              "      <td>Graduate</td>\n",
              "      <td>1</td>\n",
              "      <td>High</td>\n",
              "    </tr>\n",
              "    <tr>\n",
              "      <th>30</th>\n",
              "      <td>45000</td>\n",
              "      <td>25000</td>\n",
              "      <td>6</td>\n",
              "      <td>0</td>\n",
              "      <td>523800</td>\n",
              "      <td>Graduate</td>\n",
              "      <td>3</td>\n",
              "      <td>Medium</td>\n",
              "    </tr>\n",
              "    <tr>\n",
              "      <th>28</th>\n",
              "      <td>42000</td>\n",
              "      <td>15000</td>\n",
              "      <td>4</td>\n",
              "      <td>0</td>\n",
              "      <td>488880</td>\n",
              "      <td>Graduate</td>\n",
              "      <td>1</td>\n",
              "      <td>Medium</td>\n",
              "    </tr>\n",
              "    <tr>\n",
              "      <th>24</th>\n",
              "      <td>35000</td>\n",
              "      <td>12000</td>\n",
              "      <td>3</td>\n",
              "      <td>0</td>\n",
              "      <td>466200</td>\n",
              "      <td>Graduate</td>\n",
              "      <td>1</td>\n",
              "      <td>Medium</td>\n",
              "    </tr>\n",
              "    <tr>\n",
              "      <th>19</th>\n",
              "      <td>30000</td>\n",
              "      <td>13000</td>\n",
              "      <td>4</td>\n",
              "      <td>0</td>\n",
              "      <td>385200</td>\n",
              "      <td>Graduate</td>\n",
              "      <td>1</td>\n",
              "      <td>Medium</td>\n",
              "    </tr>\n",
              "    <tr>\n",
              "      <th>18</th>\n",
              "      <td>29000</td>\n",
              "      <td>6600</td>\n",
              "      <td>2</td>\n",
              "      <td>2000</td>\n",
              "      <td>348000</td>\n",
              "      <td>Graduate</td>\n",
              "      <td>1</td>\n",
              "      <td>Medium</td>\n",
              "    </tr>\n",
              "    <tr>\n",
              "      <th>13</th>\n",
              "      <td>24000</td>\n",
              "      <td>10500</td>\n",
              "      <td>6</td>\n",
              "      <td>0</td>\n",
              "      <td>316800</td>\n",
              "      <td>Graduate</td>\n",
              "      <td>2</td>\n",
              "      <td>Medium</td>\n",
              "    </tr>\n",
              "    <tr>\n",
              "      <th>16</th>\n",
              "      <td>25000</td>\n",
              "      <td>20000</td>\n",
              "      <td>3</td>\n",
              "      <td>3500</td>\n",
              "      <td>261000</td>\n",
              "      <td>Graduate</td>\n",
              "      <td>1</td>\n",
              "      <td>Medium</td>\n",
              "    </tr>\n",
              "    <tr>\n",
              "      <th>15</th>\n",
              "      <td>25000</td>\n",
              "      <td>12300</td>\n",
              "      <td>3</td>\n",
              "      <td>0</td>\n",
              "      <td>246000</td>\n",
              "      <td>Graduate</td>\n",
              "      <td>1</td>\n",
              "      <td>Medium</td>\n",
              "    </tr>\n",
              "    <tr>\n",
              "      <th>14</th>\n",
              "      <td>24000</td>\n",
              "      <td>10000</td>\n",
              "      <td>4</td>\n",
              "      <td>0</td>\n",
              "      <td>244800</td>\n",
              "      <td>Graduate</td>\n",
              "      <td>2</td>\n",
              "      <td>Medium</td>\n",
              "    </tr>\n",
              "    <tr>\n",
              "      <th>7</th>\n",
              "      <td>18000</td>\n",
              "      <td>20000</td>\n",
              "      <td>5</td>\n",
              "      <td>8000</td>\n",
              "      <td>216000</td>\n",
              "      <td>Graduate</td>\n",
              "      <td>1</td>\n",
              "      <td>Low</td>\n",
              "    </tr>\n",
              "    <tr>\n",
              "      <th>5</th>\n",
              "      <td>14000</td>\n",
              "      <td>8000</td>\n",
              "      <td>2</td>\n",
              "      <td>0</td>\n",
              "      <td>196560</td>\n",
              "      <td>Graduate</td>\n",
              "      <td>1</td>\n",
              "      <td>Low</td>\n",
              "    </tr>\n",
              "    <tr>\n",
              "      <th>4</th>\n",
              "      <td>12500</td>\n",
              "      <td>12000</td>\n",
              "      <td>2</td>\n",
              "      <td>3000</td>\n",
              "      <td>147000</td>\n",
              "      <td>Graduate</td>\n",
              "      <td>1</td>\n",
              "      <td>Low</td>\n",
              "    </tr>\n",
              "  </tbody>\n",
              "</table>\n",
              "</div>"
            ],
            "text/plain": [
              "    Mthly_HH_Income  Mthly_HH_Expense  ...  No_of_Earning_Members  Type_Income\n",
              "44            85000             25000  ...                      2         Huge\n",
              "26            39000              8000  ...                      1       Medium\n",
              "27            40000             10000  ...                      1       Medium\n",
              "20            30500             25000  ...                      1       Medium\n",
              "10            20000             18000  ...                      2          Low\n",
              "17            25000             10000  ...                      3       Medium\n",
              "9             20000              9000  ...                      2          Low\n",
              "8             19000              9000  ...                      1          Low\n",
              "2             10000              4500  ...                      1          Low\n",
              "0              5000              8000  ...                      1          Low\n",
              "46            98000             25000  ...                      2         Huge\n",
              "48           100000             50000  ...                      2         Huge\n",
              "37            50500             20000  ...                      2         High\n",
              "36            50000             20000  ...                      1       Medium\n",
              "31            45000             40000  ...                      2       Medium\n",
              "23            34000             25000  ...                      1       Medium\n",
              "35            47000             15000  ...                      4       Medium\n",
              "25            35000             25000  ...                      2       Medium\n",
              "21            32000             15000  ...                      1       Medium\n",
              "22            34000             19000  ...                      1       Medium\n",
              "49           100000             40000  ...                      1         Huge\n",
              "45            90000             48000  ...                      3         Huge\n",
              "33            45000             22000  ...                      1       Medium\n",
              "39            60000             10000  ...                      1         High\n",
              "32            45000             10000  ...                      1       Medium\n",
              "6             15000             16000  ...                      1          Low\n",
              "41            65000             20000  ...                      2         High\n",
              "12            23400              5000  ...                      1       Medium\n",
              "11            22000             25000  ...                      1       Medium\n",
              "3             10000              2000  ...                      1          Low\n",
              "1              6000              7000  ...                      1          Low\n",
              "47           100000             30000  ...                      3         Huge\n",
              "43            80000             20000  ...                      1         High\n",
              "42            70000              9000  ...                      1         High\n",
              "29            43000             12000  ...                      1       Medium\n",
              "38            55000             45000  ...                      2         High\n",
              "34            46000             25000  ...                      1       Medium\n",
              "40            60000             50000  ...                      1         High\n",
              "30            45000             25000  ...                      3       Medium\n",
              "28            42000             15000  ...                      1       Medium\n",
              "24            35000             12000  ...                      1       Medium\n",
              "19            30000             13000  ...                      1       Medium\n",
              "18            29000              6600  ...                      1       Medium\n",
              "13            24000             10500  ...                      2       Medium\n",
              "16            25000             20000  ...                      1       Medium\n",
              "15            25000             12300  ...                      1       Medium\n",
              "14            24000             10000  ...                      2       Medium\n",
              "7             18000             20000  ...                      1          Low\n",
              "5             14000              8000  ...                      1          Low\n",
              "4             12500             12000  ...                      1          Low\n",
              "\n",
              "[50 rows x 8 columns]"
            ]
          },
          "metadata": {
            "tags": []
          },
          "execution_count": 246
        }
      ]
    }
  ]
}